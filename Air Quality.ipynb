{
 "cells": [
  {
   "cell_type": "markdown",
   "metadata": {},
   "source": [
    "# La Qualità dell'Aria\n",
    "\n",
    "Dalla fonte: https://aqicn.org/data-platform/register/ scarichiamo il dataset dei dati storici della stazione di monitoraggio di Cipro (Roma):\n",
    "\n",
    "Nei dati sopra riportati pubblichiamo l'indice di Qualità dell'Aria \"Inquinante Individuale\". Ad esempio, se controlli le cifre per PM2.5, corrispondono al singolo AQI PM2.5 (indicato come AQIPM2.5). Se vuoi calcolare l'AQI complessivo, noto anche come AQI composito, devi prendere il massimo di tutto l'AQI individuale:\n",
    "\n",
    "AQI = max (AQIPM2.5, AQIPM10, AQIO3, ...)\n",
    "\n",
    "Grafici con https://chart-studio.plotly.com/"
   ]
  },
  {
   "cell_type": "code",
   "execution_count": 120,
   "metadata": {},
   "outputs": [],
   "source": [
    "import os\n",
    "import pandas as pd\n",
    "import numpy as np\n",
    "import chart_studio\n",
    "import chart_studio.plotly as py\n",
    "import plotly.express as px\n",
    "import plotly.graph_objects as go\n",
    "from IPython.display import IFrame\n",
    "\n",
    "# Key and Secret\n",
    "config = {} \n",
    "config_path = os.path.join(os.path.abspath('/opt/app/data/config')) \n",
    "config_name = r'config_od.py' \n",
    "config_file = os.path.join(config_path,config_name) \n",
    "exec(open(config_file).read(),config)\n",
    "\n",
    "# Plotly settings\n",
    "plotly_user=config['PLOTLY_USER']\n",
    "plotly_key=config['PLOTLY_KEY']\n",
    "chart_studio.tools.set_credentials_file(username=plotly_user, api_key=plotly_key)"
   ]
  },
  {
   "cell_type": "code",
   "execution_count": 121,
   "metadata": {},
   "outputs": [],
   "source": [
    "#Leggo dati della stazione di monitoraggio storici\n",
    "df_aqi_hist = pd.read_csv('cipro-air-quality.csv',index_col='date', sep=\"\\s*,\\s*\", engine='python') #Leggo dato storico\n",
    "df_aqi_hist['AQI'] = df_aqi_hist.max(axis=1) # Calcolo l'AQI\n",
    "df_aqi_hist = df_aqi_hist[['AQI']] # Tengo solo AQI\n",
    "df_aqi_hist.index = pd.to_datetime(df_aqi_hist.index) # Conveto indice in datetime"
   ]
  },
  {
   "cell_type": "code",
   "execution_count": 122,
   "metadata": {},
   "outputs": [],
   "source": [
    "df_aqi_hist['AQI7ma'] = df_aqi_hist['AQI'].rolling(window=7, min_periods=0).mean() #Media mobile 7 giorni"
   ]
  },
  {
   "cell_type": "code",
   "execution_count": 123,
   "metadata": {},
   "outputs": [],
   "source": [
    "df_aqi_hist.reset_index(inplace=True)"
   ]
  },
  {
   "cell_type": "code",
   "execution_count": 124,
   "metadata": {},
   "outputs": [],
   "source": [
    "df_aqi_hist['year'] = df_aqi_hist['date'].dt.year.astype('str') # Colonna Anno\n",
    "df_aqi_hist['period'] = df_aqi_hist['date'].dt.strftime('%b-%d') # Colonna Mese-Giorno"
   ]
  },
  {
   "cell_type": "code",
   "execution_count": 125,
   "metadata": {},
   "outputs": [],
   "source": [
    "df_aqi_hist.sort_values(by=['date'],inplace=True)"
   ]
  },
  {
   "cell_type": "code",
   "execution_count": 126,
   "metadata": {},
   "outputs": [],
   "source": [
    "# Lavoro solo su 2019 e 2020\n",
    "df_aqi_2020 = df_aqi_hist[df_aqi_hist['year']=='2020'] # Anno 2020\n",
    "df_aqi_2019 = df_aqi_hist[df_aqi_hist['year']=='2019'] # Anno 2019\n",
    "df_aqi_2020.set_index('period', inplace=True)\n",
    "df_aqi_2019.set_index('period', inplace=True)"
   ]
  },
  {
   "cell_type": "code",
   "execution_count": 127,
   "metadata": {},
   "outputs": [],
   "source": [
    "df_aqi = df_aqi_2019[['AQI','AQI7ma']].join(df_aqi_2020[['AQI','AQI7ma']], how='left',lsuffix='_2019', rsuffix='_2020')"
   ]
  },
  {
   "cell_type": "code",
   "execution_count": 128,
   "metadata": {},
   "outputs": [],
   "source": [
    "df_aqi.reset_index(inplace=True)"
   ]
  },
  {
   "cell_type": "code",
   "execution_count": 129,
   "metadata": {},
   "outputs": [
    {
     "data": {
      "text/html": [
       "<div>\n",
       "<style scoped>\n",
       "    .dataframe tbody tr th:only-of-type {\n",
       "        vertical-align: middle;\n",
       "    }\n",
       "\n",
       "    .dataframe tbody tr th {\n",
       "        vertical-align: top;\n",
       "    }\n",
       "\n",
       "    .dataframe thead th {\n",
       "        text-align: right;\n",
       "    }\n",
       "</style>\n",
       "<table border=\"1\" class=\"dataframe\">\n",
       "  <thead>\n",
       "    <tr style=\"text-align: right;\">\n",
       "      <th></th>\n",
       "      <th>period</th>\n",
       "      <th>AQI_2019</th>\n",
       "      <th>AQI7ma_2019</th>\n",
       "      <th>AQI_2020</th>\n",
       "      <th>AQI7ma_2020</th>\n",
       "    </tr>\n",
       "  </thead>\n",
       "  <tbody>\n",
       "    <tr>\n",
       "      <th>0</th>\n",
       "      <td>Jan-01</td>\n",
       "      <td>91.0</td>\n",
       "      <td>54.571429</td>\n",
       "      <td>112.0</td>\n",
       "      <td>53.428571</td>\n",
       "    </tr>\n",
       "    <tr>\n",
       "      <th>1</th>\n",
       "      <td>Jan-02</td>\n",
       "      <td>61.0</td>\n",
       "      <td>57.857143</td>\n",
       "      <td>109.0</td>\n",
       "      <td>57.857143</td>\n",
       "    </tr>\n",
       "  </tbody>\n",
       "</table>\n",
       "</div>"
      ],
      "text/plain": [
       "   period  AQI_2019  AQI7ma_2019  AQI_2020  AQI7ma_2020\n",
       "0  Jan-01      91.0    54.571429     112.0    53.428571\n",
       "1  Jan-02      61.0    57.857143     109.0    57.857143"
      ]
     },
     "execution_count": 129,
     "metadata": {},
     "output_type": "execute_result"
    }
   ],
   "source": [
    "df_aqi.head(2)"
   ]
  },
  {
   "cell_type": "code",
   "execution_count": 143,
   "metadata": {},
   "outputs": [],
   "source": [
    "'''Trend AQI media mobile a 7 giorni'''\n",
    "def trend_aqi_7ma(df_aqi):\n",
    "    # Create a trace\n",
    "    trace1 = go.Scatter(\n",
    "        x = df_aqi['period'],\n",
    "        y = df_aqi['AQI7ma_2019'],\n",
    "        mode = 'lines',\n",
    "        name = 'AQI-2019'\n",
    "    )\n",
    "    \n",
    "    trace2 = go.Scatter(\n",
    "        x = df_aqi['period'],\n",
    "        y = df_aqi['AQI7ma_2020'],\n",
    "        mode = 'lines',\n",
    "        name = 'AQI-2020'\n",
    "    )\n",
    "    data = [trace1,trace2]\n",
    "    \n",
    "    # Edit the layout\n",
    "    layout = dict(title = 'Media Mobile 7 giorni Air Quality Index (Cipro, Roma)',\n",
    "                  yaxis = dict(title = 'Air Quality Index')\n",
    "                  )\n",
    "    \n",
    "    annotations = []\n",
    "    annotations.append(dict(xref='paper', yref='paper', x=0.5, y=-0.15,\n",
    "                                  xanchor='center', yanchor='top',\n",
    "                                  text='Fonte: World Air Quality Index',\n",
    "                                  font=dict(family='Arial',\n",
    "                                            size=12,\n",
    "                                            color='rgb(150,150,150)'),\n",
    "                                  showarrow=False)\n",
    "                      )\n",
    "    layout['annotations'] = annotations\n",
    "        \n",
    "    fig = dict(data=data, layout=layout)\n",
    "\n",
    "    return fig"
   ]
  },
  {
   "cell_type": "code",
   "execution_count": 144,
   "metadata": {},
   "outputs": [
    {
     "data": {
      "text/html": [
       "\n",
       "        <iframe\n",
       "            width=\"100%\"\n",
       "            height=\"525px\"\n",
       "            src=\"https://plotly.com/~andrea.cesarini85/108.embed\"\n",
       "            frameborder=\"0\"\n",
       "            allowfullscreen\n",
       "        ></iframe>\n",
       "        "
      ],
      "text/plain": [
       "<IPython.lib.display.IFrame at 0x7fb13d981d68>"
      ]
     },
     "execution_count": 144,
     "metadata": {},
     "output_type": "execute_result"
    }
   ],
   "source": [
    "fig_aiq_7ma = trend_aqi_7ma(df_aqi)\n",
    "py.iplot(fig_aiq_7ma, filename='aiq-trend_7ma')"
   ]
  }
 ],
 "metadata": {
  "kernelspec": {
   "display_name": "Python 3",
   "language": "python",
   "name": "python3"
  },
  "language_info": {
   "codemirror_mode": {
    "name": "ipython",
    "version": 3
   },
   "file_extension": ".py",
   "mimetype": "text/x-python",
   "name": "python",
   "nbconvert_exporter": "python",
   "pygments_lexer": "ipython3",
   "version": "3.7.2"
  }
 },
 "nbformat": 4,
 "nbformat_minor": 2
}
